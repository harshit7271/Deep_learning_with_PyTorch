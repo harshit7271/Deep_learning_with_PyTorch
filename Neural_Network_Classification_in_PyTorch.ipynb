{
  "nbformat": 4,
  "nbformat_minor": 0,
  "metadata": {
    "colab": {
      "provenance": [],
      "gpuType": "T4",
      "authorship_tag": "ABX9TyPqT50JK/s9G5bZC+Vucnjn",
      "include_colab_link": true
    },
    "kernelspec": {
      "name": "python3",
      "display_name": "Python 3"
    },
    "language_info": {
      "name": "python"
    },
    "accelerator": "GPU"
  },
  "cells": [
    {
      "cell_type": "markdown",
      "metadata": {
        "id": "view-in-github",
        "colab_type": "text"
      },
      "source": [
        "<a href=\"https://colab.research.google.com/github/harshit7271/Deep_learning_with_PyTorch/blob/main/Neural_Network_Classification_in_PyTorch.ipynb\" target=\"_parent\"><img src=\"https://colab.research.google.com/assets/colab-badge.svg\" alt=\"Open In Colab\"/></a>"
      ]
    },
    {
      "cell_type": "markdown",
      "source": [
        "# **Neural Network Classification with PyTorch**\n",
        "Classification is a problem of predicting whether something is one thing or another (there can be multiple things as the options).\n",
        "\n",
        "* **Book version of this notebook** - http://www.learnpytorch.io/02_pytorch_classification/"
      ],
      "metadata": {
        "id": "eoGY8Pw2EWFo"
      }
    },
    {
      "cell_type": "markdown",
      "source": [
        "# **1. Make classification data and get it ready**"
      ],
      "metadata": {
        "id": "kJlLBrUGFM17"
      }
    },
    {
      "cell_type": "code",
      "source": [
        "import sklearn"
      ],
      "metadata": {
        "id": "_oMjjCXpFL5Q"
      },
      "execution_count": 1,
      "outputs": []
    },
    {
      "cell_type": "code",
      "source": [
        "from sklearn.datasets import make_circles\n",
        "\n",
        "# Make 1000 samples\n",
        "n_samples = 1000\n",
        "\n",
        "# Create circles\n",
        "X, y = make_circles(n_samples, noise = 0.03, random_state = 42)"
      ],
      "metadata": {
        "id": "CjqScukyFcZh"
      },
      "execution_count": 2,
      "outputs": []
    },
    {
      "cell_type": "code",
      "source": [
        "len(X), len(y)"
      ],
      "metadata": {
        "colab": {
          "base_uri": "https://localhost:8080/"
        },
        "id": "qKnW6Z5XF1hs",
        "outputId": "964e671c-e1a9-4b9b-d0f7-465cc84e21ed"
      },
      "execution_count": 3,
      "outputs": [
        {
          "output_type": "execute_result",
          "data": {
            "text/plain": [
              "(1000, 1000)"
            ]
          },
          "metadata": {},
          "execution_count": 3
        }
      ]
    },
    {
      "cell_type": "code",
      "source": [
        "print(f\"first 5 samples of X : \\n {X[:5]}\")\n",
        "print(f\"first 5 samples of y :\\n {y[:5]}\")"
      ],
      "metadata": {
        "colab": {
          "base_uri": "https://localhost:8080/"
        },
        "id": "WUJAp8wzGG5a",
        "outputId": "f3128cf6-d6e2-48a9-a614-7d499221f25f"
      },
      "execution_count": 4,
      "outputs": [
        {
          "output_type": "stream",
          "name": "stdout",
          "text": [
            "first 5 samples of X : \n",
            " [[ 0.75424625  0.23148074]\n",
            " [-0.75615888  0.15325888]\n",
            " [-0.81539193  0.17328203]\n",
            " [-0.39373073  0.69288277]\n",
            " [ 0.44220765 -0.89672343]]\n",
            "first 5 samples of y :\n",
            " [1 1 1 1 0]\n"
          ]
        }
      ]
    },
    {
      "cell_type": "code",
      "source": [
        "# Make DataFrame of circle data\n",
        "import pandas as pd\n",
        "circles = pd.DataFrame({\"X1\" : X[:, 0],\n",
        "                        \"X2\" : X[:, 1],\n",
        "                        \"label\" : y})\n",
        "\n",
        "circles.head()"
      ],
      "metadata": {
        "colab": {
          "base_uri": "https://localhost:8080/",
          "height": 206
        },
        "id": "xVGjjIXdGY4X",
        "outputId": "338ed7ec-938f-4c66-f396-a42fff457abb"
      },
      "execution_count": 5,
      "outputs": [
        {
          "output_type": "execute_result",
          "data": {
            "text/plain": [
              "         X1        X2  label\n",
              "0  0.754246  0.231481      1\n",
              "1 -0.756159  0.153259      1\n",
              "2 -0.815392  0.173282      1\n",
              "3 -0.393731  0.692883      1\n",
              "4  0.442208 -0.896723      0"
            ],
            "text/html": [
              "\n",
              "  <div id=\"df-03442155-f964-49bb-a510-a1f6f6c3d109\" class=\"colab-df-container\">\n",
              "    <div>\n",
              "<style scoped>\n",
              "    .dataframe tbody tr th:only-of-type {\n",
              "        vertical-align: middle;\n",
              "    }\n",
              "\n",
              "    .dataframe tbody tr th {\n",
              "        vertical-align: top;\n",
              "    }\n",
              "\n",
              "    .dataframe thead th {\n",
              "        text-align: right;\n",
              "    }\n",
              "</style>\n",
              "<table border=\"1\" class=\"dataframe\">\n",
              "  <thead>\n",
              "    <tr style=\"text-align: right;\">\n",
              "      <th></th>\n",
              "      <th>X1</th>\n",
              "      <th>X2</th>\n",
              "      <th>label</th>\n",
              "    </tr>\n",
              "  </thead>\n",
              "  <tbody>\n",
              "    <tr>\n",
              "      <th>0</th>\n",
              "      <td>0.754246</td>\n",
              "      <td>0.231481</td>\n",
              "      <td>1</td>\n",
              "    </tr>\n",
              "    <tr>\n",
              "      <th>1</th>\n",
              "      <td>-0.756159</td>\n",
              "      <td>0.153259</td>\n",
              "      <td>1</td>\n",
              "    </tr>\n",
              "    <tr>\n",
              "      <th>2</th>\n",
              "      <td>-0.815392</td>\n",
              "      <td>0.173282</td>\n",
              "      <td>1</td>\n",
              "    </tr>\n",
              "    <tr>\n",
              "      <th>3</th>\n",
              "      <td>-0.393731</td>\n",
              "      <td>0.692883</td>\n",
              "      <td>1</td>\n",
              "    </tr>\n",
              "    <tr>\n",
              "      <th>4</th>\n",
              "      <td>0.442208</td>\n",
              "      <td>-0.896723</td>\n",
              "      <td>0</td>\n",
              "    </tr>\n",
              "  </tbody>\n",
              "</table>\n",
              "</div>\n",
              "    <div class=\"colab-df-buttons\">\n",
              "\n",
              "  <div class=\"colab-df-container\">\n",
              "    <button class=\"colab-df-convert\" onclick=\"convertToInteractive('df-03442155-f964-49bb-a510-a1f6f6c3d109')\"\n",
              "            title=\"Convert this dataframe to an interactive table.\"\n",
              "            style=\"display:none;\">\n",
              "\n",
              "  <svg xmlns=\"http://www.w3.org/2000/svg\" height=\"24px\" viewBox=\"0 -960 960 960\">\n",
              "    <path d=\"M120-120v-720h720v720H120Zm60-500h600v-160H180v160Zm220 220h160v-160H400v160Zm0 220h160v-160H400v160ZM180-400h160v-160H180v160Zm440 0h160v-160H620v160ZM180-180h160v-160H180v160Zm440 0h160v-160H620v160Z\"/>\n",
              "  </svg>\n",
              "    </button>\n",
              "\n",
              "  <style>\n",
              "    .colab-df-container {\n",
              "      display:flex;\n",
              "      gap: 12px;\n",
              "    }\n",
              "\n",
              "    .colab-df-convert {\n",
              "      background-color: #E8F0FE;\n",
              "      border: none;\n",
              "      border-radius: 50%;\n",
              "      cursor: pointer;\n",
              "      display: none;\n",
              "      fill: #1967D2;\n",
              "      height: 32px;\n",
              "      padding: 0 0 0 0;\n",
              "      width: 32px;\n",
              "    }\n",
              "\n",
              "    .colab-df-convert:hover {\n",
              "      background-color: #E2EBFA;\n",
              "      box-shadow: 0px 1px 2px rgba(60, 64, 67, 0.3), 0px 1px 3px 1px rgba(60, 64, 67, 0.15);\n",
              "      fill: #174EA6;\n",
              "    }\n",
              "\n",
              "    .colab-df-buttons div {\n",
              "      margin-bottom: 4px;\n",
              "    }\n",
              "\n",
              "    [theme=dark] .colab-df-convert {\n",
              "      background-color: #3B4455;\n",
              "      fill: #D2E3FC;\n",
              "    }\n",
              "\n",
              "    [theme=dark] .colab-df-convert:hover {\n",
              "      background-color: #434B5C;\n",
              "      box-shadow: 0px 1px 3px 1px rgba(0, 0, 0, 0.15);\n",
              "      filter: drop-shadow(0px 1px 2px rgba(0, 0, 0, 0.3));\n",
              "      fill: #FFFFFF;\n",
              "    }\n",
              "  </style>\n",
              "\n",
              "    <script>\n",
              "      const buttonEl =\n",
              "        document.querySelector('#df-03442155-f964-49bb-a510-a1f6f6c3d109 button.colab-df-convert');\n",
              "      buttonEl.style.display =\n",
              "        google.colab.kernel.accessAllowed ? 'block' : 'none';\n",
              "\n",
              "      async function convertToInteractive(key) {\n",
              "        const element = document.querySelector('#df-03442155-f964-49bb-a510-a1f6f6c3d109');\n",
              "        const dataTable =\n",
              "          await google.colab.kernel.invokeFunction('convertToInteractive',\n",
              "                                                    [key], {});\n",
              "        if (!dataTable) return;\n",
              "\n",
              "        const docLinkHtml = 'Like what you see? Visit the ' +\n",
              "          '<a target=\"_blank\" href=https://colab.research.google.com/notebooks/data_table.ipynb>data table notebook</a>'\n",
              "          + ' to learn more about interactive tables.';\n",
              "        element.innerHTML = '';\n",
              "        dataTable['output_type'] = 'display_data';\n",
              "        await google.colab.output.renderOutput(dataTable, element);\n",
              "        const docLink = document.createElement('div');\n",
              "        docLink.innerHTML = docLinkHtml;\n",
              "        element.appendChild(docLink);\n",
              "      }\n",
              "    </script>\n",
              "  </div>\n",
              "\n",
              "\n",
              "    <div id=\"df-9624da11-c2f6-4656-a532-24caf266e754\">\n",
              "      <button class=\"colab-df-quickchart\" onclick=\"quickchart('df-9624da11-c2f6-4656-a532-24caf266e754')\"\n",
              "                title=\"Suggest charts\"\n",
              "                style=\"display:none;\">\n",
              "\n",
              "<svg xmlns=\"http://www.w3.org/2000/svg\" height=\"24px\"viewBox=\"0 0 24 24\"\n",
              "     width=\"24px\">\n",
              "    <g>\n",
              "        <path d=\"M19 3H5c-1.1 0-2 .9-2 2v14c0 1.1.9 2 2 2h14c1.1 0 2-.9 2-2V5c0-1.1-.9-2-2-2zM9 17H7v-7h2v7zm4 0h-2V7h2v10zm4 0h-2v-4h2v4z\"/>\n",
              "    </g>\n",
              "</svg>\n",
              "      </button>\n",
              "\n",
              "<style>\n",
              "  .colab-df-quickchart {\n",
              "      --bg-color: #E8F0FE;\n",
              "      --fill-color: #1967D2;\n",
              "      --hover-bg-color: #E2EBFA;\n",
              "      --hover-fill-color: #174EA6;\n",
              "      --disabled-fill-color: #AAA;\n",
              "      --disabled-bg-color: #DDD;\n",
              "  }\n",
              "\n",
              "  [theme=dark] .colab-df-quickchart {\n",
              "      --bg-color: #3B4455;\n",
              "      --fill-color: #D2E3FC;\n",
              "      --hover-bg-color: #434B5C;\n",
              "      --hover-fill-color: #FFFFFF;\n",
              "      --disabled-bg-color: #3B4455;\n",
              "      --disabled-fill-color: #666;\n",
              "  }\n",
              "\n",
              "  .colab-df-quickchart {\n",
              "    background-color: var(--bg-color);\n",
              "    border: none;\n",
              "    border-radius: 50%;\n",
              "    cursor: pointer;\n",
              "    display: none;\n",
              "    fill: var(--fill-color);\n",
              "    height: 32px;\n",
              "    padding: 0;\n",
              "    width: 32px;\n",
              "  }\n",
              "\n",
              "  .colab-df-quickchart:hover {\n",
              "    background-color: var(--hover-bg-color);\n",
              "    box-shadow: 0 1px 2px rgba(60, 64, 67, 0.3), 0 1px 3px 1px rgba(60, 64, 67, 0.15);\n",
              "    fill: var(--button-hover-fill-color);\n",
              "  }\n",
              "\n",
              "  .colab-df-quickchart-complete:disabled,\n",
              "  .colab-df-quickchart-complete:disabled:hover {\n",
              "    background-color: var(--disabled-bg-color);\n",
              "    fill: var(--disabled-fill-color);\n",
              "    box-shadow: none;\n",
              "  }\n",
              "\n",
              "  .colab-df-spinner {\n",
              "    border: 2px solid var(--fill-color);\n",
              "    border-color: transparent;\n",
              "    border-bottom-color: var(--fill-color);\n",
              "    animation:\n",
              "      spin 1s steps(1) infinite;\n",
              "  }\n",
              "\n",
              "  @keyframes spin {\n",
              "    0% {\n",
              "      border-color: transparent;\n",
              "      border-bottom-color: var(--fill-color);\n",
              "      border-left-color: var(--fill-color);\n",
              "    }\n",
              "    20% {\n",
              "      border-color: transparent;\n",
              "      border-left-color: var(--fill-color);\n",
              "      border-top-color: var(--fill-color);\n",
              "    }\n",
              "    30% {\n",
              "      border-color: transparent;\n",
              "      border-left-color: var(--fill-color);\n",
              "      border-top-color: var(--fill-color);\n",
              "      border-right-color: var(--fill-color);\n",
              "    }\n",
              "    40% {\n",
              "      border-color: transparent;\n",
              "      border-right-color: var(--fill-color);\n",
              "      border-top-color: var(--fill-color);\n",
              "    }\n",
              "    60% {\n",
              "      border-color: transparent;\n",
              "      border-right-color: var(--fill-color);\n",
              "    }\n",
              "    80% {\n",
              "      border-color: transparent;\n",
              "      border-right-color: var(--fill-color);\n",
              "      border-bottom-color: var(--fill-color);\n",
              "    }\n",
              "    90% {\n",
              "      border-color: transparent;\n",
              "      border-bottom-color: var(--fill-color);\n",
              "    }\n",
              "  }\n",
              "</style>\n",
              "\n",
              "      <script>\n",
              "        async function quickchart(key) {\n",
              "          const quickchartButtonEl =\n",
              "            document.querySelector('#' + key + ' button');\n",
              "          quickchartButtonEl.disabled = true;  // To prevent multiple clicks.\n",
              "          quickchartButtonEl.classList.add('colab-df-spinner');\n",
              "          try {\n",
              "            const charts = await google.colab.kernel.invokeFunction(\n",
              "                'suggestCharts', [key], {});\n",
              "          } catch (error) {\n",
              "            console.error('Error during call to suggestCharts:', error);\n",
              "          }\n",
              "          quickchartButtonEl.classList.remove('colab-df-spinner');\n",
              "          quickchartButtonEl.classList.add('colab-df-quickchart-complete');\n",
              "        }\n",
              "        (() => {\n",
              "          let quickchartButtonEl =\n",
              "            document.querySelector('#df-9624da11-c2f6-4656-a532-24caf266e754 button');\n",
              "          quickchartButtonEl.style.display =\n",
              "            google.colab.kernel.accessAllowed ? 'block' : 'none';\n",
              "        })();\n",
              "      </script>\n",
              "    </div>\n",
              "\n",
              "    </div>\n",
              "  </div>\n"
            ],
            "application/vnd.google.colaboratory.intrinsic+json": {
              "type": "dataframe",
              "variable_name": "circles",
              "summary": "{\n  \"name\": \"circles\",\n  \"rows\": 1000,\n  \"fields\": [\n    {\n      \"column\": \"X1\",\n      \"properties\": {\n        \"dtype\": \"number\",\n        \"std\": 0.6398365674574611,\n        \"min\": -1.0595024599098635,\n        \"max\": 1.0337117525463373,\n        \"num_unique_values\": 1000,\n        \"samples\": [\n          -0.3751930206933384,\n          0.015380346701456493,\n          -0.7027835978832848\n        ],\n        \"semantic_type\": \"\",\n        \"description\": \"\"\n      }\n    },\n    {\n      \"column\": \"X2\",\n      \"properties\": {\n        \"dtype\": \"number\",\n        \"std\": 0.6411559581015379,\n        \"min\": -1.0677683182718436,\n        \"max\": 1.0360036756154805,\n        \"num_unique_values\": 1000,\n        \"samples\": [\n          0.6826597225888621,\n          0.9600260220697324,\n          -0.3147169925147762\n        ],\n        \"semantic_type\": \"\",\n        \"description\": \"\"\n      }\n    },\n    {\n      \"column\": \"label\",\n      \"properties\": {\n        \"dtype\": \"number\",\n        \"std\": 0,\n        \"min\": 0,\n        \"max\": 1,\n        \"num_unique_values\": 2,\n        \"samples\": [\n          0,\n          1\n        ],\n        \"semantic_type\": \"\",\n        \"description\": \"\"\n      }\n    }\n  ]\n}"
            }
          },
          "metadata": {},
          "execution_count": 5
        }
      ]
    },
    {
      "cell_type": "code",
      "source": [
        "# Let's visualize the data\n",
        "import matplotlib.pyplot as plt\n",
        "plt.scatter(x = X[:, 0],\n",
        "            y = X[:, 1],\n",
        "            c = y,\n",
        "            cmap = plt.cm.RdYlBu)"
      ],
      "metadata": {
        "colab": {
          "base_uri": "https://localhost:8080/",
          "height": 448
        },
        "id": "NSwRcx0nHomi",
        "outputId": "aa46de53-56ab-4cc7-daa0-d913a536f2e1"
      },
      "execution_count": 6,
      "outputs": [
        {
          "output_type": "execute_result",
          "data": {
            "text/plain": [
              "<matplotlib.collections.PathCollection at 0x7d7514459ca0>"
            ]
          },
          "metadata": {},
          "execution_count": 6
        },
        {
          "output_type": "display_data",
          "data": {
            "text/plain": [
              "<Figure size 640x480 with 1 Axes>"
            ],
            "image/png": "[encoded data removed]"
          },
          "metadata": {}
        }
      ]
    },
    {
      "cell_type": "markdown",
      "source": [
        "## ***NOTE :*** *The data we're working with is often reffered as a toy dataset, a dataset that is small enough to experiment but still sizeable enough to practice the fundamentals*"
      ],
      "metadata": {
        "id": "b0IjbxmIJGgt"
      }
    },
    {
      "cell_type": "markdown",
      "source": [
        "### **1.1 Check input and outputs shape**"
      ],
      "metadata": {
        "id": "sAs1W-O-v0Aq"
      }
    },
    {
      "cell_type": "code",
      "source": [
        "X.shape, y.shape"
      ],
      "metadata": {
        "id": "cn7m4JPzIlfH",
        "colab": {
          "base_uri": "https://localhost:8080/"
        },
        "outputId": "0f7453aa-ce45-4979-bc54-55bdea8b4753"
      },
      "execution_count": 7,
      "outputs": [
        {
          "output_type": "execute_result",
          "data": {
            "text/plain": [
              "((1000, 2), (1000,))"
            ]
          },
          "metadata": {},
          "execution_count": 7
        }
      ]
    },
    {
      "cell_type": "code",
      "source": [
        "# view the first example of features and labels\n",
        "X_sample = X[0]\n",
        "y_sample = y[0]\n",
        "\n",
        "print(f\"Values for one sample of X : {X_sample} and the same for y : {y_sample}\")\n",
        "print(f\"Shape for X : {X_sample.shape} and for y : {y_sample.shape}\")"
      ],
      "metadata": {
        "colab": {
          "base_uri": "https://localhost:8080/"
        },
        "id": "vmuFH1ia3gA2",
        "outputId": "6e77ab18-c7c4-4868-e024-e02db810b007"
      },
      "execution_count": 8,
      "outputs": [
        {
          "output_type": "stream",
          "name": "stdout",
          "text": [
            "Values for one sample of X : [0.75424625 0.23148074] and the same for y : 1\n",
            "Shape for X : (2,) and for y : ()\n"
          ]
        }
      ]
    },
    {
      "cell_type": "markdown",
      "source": [
        "### **1.2 Turn data into tensors and create train and test splits**"
      ],
      "metadata": {
        "id": "IbFmb_VB6BOV"
      }
    },
    {
      "cell_type": "code",
      "source": [
        "import torch\n",
        "torch.__version__"
      ],
      "metadata": {
        "colab": {
          "base_uri": "https://localhost:8080/",
          "height": 36
        },
        "id": "71Yj5Afg4431",
        "outputId": "0d9fae3f-c133-4140-f6c8-a36dfa02eb64"
      },
      "execution_count": 9,
      "outputs": [
        {
          "output_type": "execute_result",
          "data": {
            "text/plain": [
              "'2.8.0+cu126'"
            ],
            "application/vnd.google.colaboratory.intrinsic+json": {
              "type": "string"
            }
          },
          "metadata": {},
          "execution_count": 9
        }
      ]
    },
    {
      "cell_type": "code",
      "source": [
        "type(X), X.dtype, type(y), y.dtype"
      ],
      "metadata": {
        "colab": {
          "base_uri": "https://localhost:8080/"
        },
        "id": "7wnWCIrC6Zc9",
        "outputId": "4b374542-3923-45c4-8ccc-9b9d680fdb46"
      },
      "execution_count": 10,
      "outputs": [
        {
          "output_type": "execute_result",
          "data": {
            "text/plain": [
              "(numpy.ndarray, dtype('float64'), numpy.ndarray, dtype('int64'))"
            ]
          },
          "metadata": {},
          "execution_count": 10
        }
      ]
    },
    {
      "cell_type": "code",
      "source": [
        "# Turn data into tensors\n",
        "X = torch.from_numpy(X).type(torch.float)\n",
        "y = torch.from_numpy(y).type(torch.float)\n",
        "\n",
        "X[:5], y[:5]"
      ],
      "metadata": {
        "colab": {
          "base_uri": "https://localhost:8080/"
        },
        "id": "S6xwC0Vm6iVF",
        "outputId": "da9e3b63-888c-4083-d098-30dbcf6159b2"
      },
      "execution_count": 11,
      "outputs": [
        {
          "output_type": "execute_result",
          "data": {
            "text/plain": [
              "(tensor([[ 0.7542,  0.2315],\n",
              "         [-0.7562,  0.1533],\n",
              "         [-0.8154,  0.1733],\n",
              "         [-0.3937,  0.6929],\n",
              "         [ 0.4422, -0.8967]]),\n",
              " tensor([1., 1., 1., 1., 0.]))"
            ]
          },
          "metadata": {},
          "execution_count": 11
        }
      ]
    },
    {
      "cell_type": "code",
      "source": [
        "type(X), X.dtype, type(y), y.dtype"
      ],
      "metadata": {
        "colab": {
          "base_uri": "https://localhost:8080/"
        },
        "id": "9I84L6PD7MYV",
        "outputId": "b4c2a90c-a32e-4ffe-b3db-e66e6ef0fe3c"
      },
      "execution_count": 12,
      "outputs": [
        {
          "output_type": "execute_result",
          "data": {
            "text/plain": [
              "(torch.Tensor, torch.float32, torch.Tensor, torch.float32)"
            ]
          },
          "metadata": {},
          "execution_count": 12
        }
      ]
    },
    {
      "cell_type": "code",
      "source": [
        "# Split data into training and testing sets\n",
        "from sklearn.model_selection import train_test_split\n",
        "\n",
        "X_train, X_test, y_train, y_test = train_test_split(X, y, test_size=0.2, random_state=42)"
      ],
      "metadata": {
        "id": "uu_l1rMP7UEN"
      },
      "execution_count": 13,
      "outputs": []
    },
    {
      "cell_type": "code",
      "source": [
        "X_train, X_train.shape"
      ],
      "metadata": {
        "id": "-m6vqZtnWe34",
        "outputId": "de0952ff-dc0f-4982-bb98-ab6fb73f3bb4",
        "colab": {
          "base_uri": "https://localhost:8080/"
        }
      },
      "execution_count": 14,
      "outputs": [
        {
          "output_type": "execute_result",
          "data": {
            "text/plain": [
              "(tensor([[ 0.6579, -0.4651],\n",
              "         [ 0.6319, -0.7347],\n",
              "         [-1.0086, -0.1240],\n",
              "         ...,\n",
              "         [ 0.0157, -1.0300],\n",
              "         [ 1.0110,  0.1680],\n",
              "         [ 0.5578, -0.5709]]),\n",
              " torch.Size([800, 2]))"
            ]
          },
          "metadata": {},
          "execution_count": 14
        }
      ]
    },
    {
      "cell_type": "code",
      "source": [
        "len(X_train), len(X_test), len(y_train), len(y_test)"
      ],
      "metadata": {
        "id": "DkWf4QktKVjQ",
        "outputId": "20d4b3c9-7404-42ee-c520-fab5ca00882a",
        "colab": {
          "base_uri": "https://localhost:8080/"
        }
      },
      "execution_count": 15,
      "outputs": [
        {
          "output_type": "execute_result",
          "data": {
            "text/plain": [
              "(800, 200, 800, 200)"
            ]
          },
          "metadata": {},
          "execution_count": 15
        }
      ]
    },
    {
      "cell_type": "code",
      "source": [
        "n_samples"
      ],
      "metadata": {
        "id": "m-gRptcZUa3Q",
        "outputId": "697f94da-143a-4ad7-c06b-cfe3eb0eda77",
        "colab": {
          "base_uri": "https://localhost:8080/"
        }
      },
      "execution_count": 16,
      "outputs": [
        {
          "output_type": "execute_result",
          "data": {
            "text/plain": [
              "1000"
            ]
          },
          "metadata": {},
          "execution_count": 16
        }
      ]
    },
    {
      "cell_type": "markdown",
      "source": [
        "# **2. Building a model**\n",
        "\n",
        "Let's build a model to classify our blue and red dots.\n",
        "\n",
        "To do so, we want to :\n",
        "* Setup device agnostic code so our code will run on an accelator(GPU) if there is one\n",
        "* Construct a model (by subclassing `nn.Module`)\n",
        "* Define a **loss function** and **optimizer**\n",
        "* Create a training and testing loop"
      ],
      "metadata": {
        "id": "ZxBZXY-pUsCT"
      }
    },
    {
      "cell_type": "code",
      "source": [
        "import torch\n",
        "from torch import nn\n",
        "\n",
        "\n",
        "# Make device agnostic code\n",
        "device = \"cuda\" if torch.cuda.is_available() else \"cpu\"\n",
        "device"
      ],
      "metadata": {
        "id": "hLvh8LIeUnAu",
        "outputId": "deb386aa-9ba4-48dd-a70c-82d585a6c0c3",
        "colab": {
          "base_uri": "https://localhost:8080/",
          "height": 36
        }
      },
      "execution_count": 17,
      "outputs": [
        {
          "output_type": "execute_result",
          "data": {
            "text/plain": [
              "'cuda'"
            ],
            "application/vnd.google.colaboratory.intrinsic+json": {
              "type": "string"
            }
          },
          "metadata": {},
          "execution_count": 17
        }
      ]
    },
    {
      "cell_type": "markdown",
      "source": [
        "**Now we've setup device agnostic code, let's create a model that :**\n",
        "1. Subclass `nn.Module` (almost all models in PyTorch subclass `nn.Module`)\n",
        "2. Create 2 `nn.Linear()` layers that are capable of handling shapes of our data\n",
        "3. Define a `forward()` method that outlines the forward forward pass(or forward computation) of the model\n",
        "4. Instatiate an instance of our model class and send it to the target `device`"
      ],
      "metadata": {
        "id": "xhvr_4-tW1ru"
      }
    },
    {
      "cell_type": "code",
      "source": [
        "from sklearn import datasets\n",
        "# Construct a model that subclasses nn.Module\n",
        "class CircleModelV0(nn.Module) :\n",
        "  def __init__(self):\n",
        "    super().__init__()\n",
        "    # Create 2 nn.Linear layers capable of handling the shapes of our data\n",
        "    self.layer_1 = nn.Linear(in_features=2, out_features=5)    # takes in 2 features and upscales to 5 features\n",
        "    self.layer_2 = nn.Linear(in_features=5, out_features=1)    # takes in 5 feautres from previous layers and outputs a single feature (same shape as y)\n",
        "\n",
        "  # Define a forward method that outlines the forward pass\n",
        "  def forward(self, x):\n",
        "    return self.layer_2(self.layer_1(x))   # x -> layer_1 -> layer_2 -> output\n",
        "\n",
        "  # Instantiate an instance of our model class and send it to target device\n",
        "model_0 = CircleModelV0().to(device)\n",
        "model_0"
      ],
      "metadata": {
        "id": "cHd0hJQqWP-5",
        "outputId": "3c2e6f2d-a112-435d-c4cd-0412c9ab3e86",
        "colab": {
          "base_uri": "https://localhost:8080/"
        }
      },
      "execution_count": 18,
      "outputs": [
        {
          "output_type": "execute_result",
          "data": {
            "text/plain": [
              "CircleModelV0(\n",
              "  (layer_1): Linear(in_features=2, out_features=5, bias=True)\n",
              "  (layer_2): Linear(in_features=5, out_features=1, bias=True)\n",
              ")"
            ]
          },
          "metadata": {},
          "execution_count": 18
        }
      ]
    },
    {
      "cell_type": "code",
      "source": [
        "next(model_0.parameters()).device"
      ],
      "metadata": {
        "id": "UNvPouepbcZ7",
        "outputId": "5b1ee02b-034c-4dc9-917d-52d9980b0710",
        "colab": {
          "base_uri": "https://localhost:8080/"
        }
      },
      "execution_count": 19,
      "outputs": [
        {
          "output_type": "execute_result",
          "data": {
            "text/plain": [
              "device(type='cuda', index=0)"
            ]
          },
          "metadata": {},
          "execution_count": 19
        }
      ]
    },
    {
      "cell_type": "code",
      "source": [
        "# Let's replicate the model above using nn.Sequestial()\n",
        "model_0 = nn.Sequential(\n",
        "    nn.Linear(in_features=2, out_features=5),\n",
        "    nn.Linear(in_features=5, out_features=1)\n",
        ").to(device)\n",
        "\n",
        "model_0"
      ],
      "metadata": {
        "id": "37wC9UFbboSR",
        "outputId": "25aadff2-a16d-47f7-fccd-779306b42b6d",
        "colab": {
          "base_uri": "https://localhost:8080/"
        }
      },
      "execution_count": 20,
      "outputs": [
        {
          "output_type": "execute_result",
          "data": {
            "text/plain": [
              "Sequential(\n",
              "  (0): Linear(in_features=2, out_features=5, bias=True)\n",
              "  (1): Linear(in_features=5, out_features=1, bias=True)\n",
              ")"
            ]
          },
          "metadata": {},
          "execution_count": 20
        }
      ]
    },
    {
      "cell_type": "code",
      "source": [
        "model_0.state_dict()"
      ],
      "metadata": {
        "id": "j0iC5Xo_fyZg",
        "outputId": "4e90b207-4d17-4dc1-89d2-da9ab349d63d",
        "colab": {
          "base_uri": "https://localhost:8080/"
        }
      },
      "execution_count": 21,
      "outputs": [
        {
          "output_type": "execute_result",
          "data": {
            "text/plain": [
              "OrderedDict([('0.weight',\n",
              "              tensor([[ 0.3645,  0.2768],\n",
              "                      [ 0.6075,  0.6617],\n",
              "                      [ 0.5488,  0.4812],\n",
              "                      [-0.1294,  0.3772],\n",
              "                      [ 0.0063, -0.6868]], device='cuda:0')),\n",
              "             ('0.bias',\n",
              "              tensor([-0.6581,  0.1867,  0.2882,  0.2161,  0.6131], device='cuda:0')),\n",
              "             ('1.weight',\n",
              "              tensor([[ 0.3335,  0.2186, -0.3129,  0.4106,  0.3633]], device='cuda:0')),\n",
              "             ('1.bias', tensor([-0.0280], device='cuda:0'))])"
            ]
          },
          "metadata": {},
          "execution_count": 21
        }
      ]
    },
    {
      "cell_type": "code",
      "source": [
        "# Make predictions\n",
        "with torch.inference_mode():\n",
        "  untrained_preds = model_0(X_test.to(device))\n",
        "print(f\"length of predictions : {len(untrained_preds)}\")\n",
        "print(f\"shape of predictions : {untrained_preds.shape}\")\n",
        "print(f\"\\nLength of test samples : {len(X_test)}, shape : {X_test.shape}\")\n",
        "print(f\"\\nFirst 10 predictions : {torch.round(untrained_preds[:10])}\")\n",
        "print(f\"\\n First 10 actual labels : {y_test[:10]}\")"
      ],
      "metadata": {
        "id": "06-_DKPYgeV_",
        "outputId": "613d00e5-143c-4040-b4b6-5f1e0af50d7e",
        "colab": {
          "base_uri": "https://localhost:8080/"
        }
      },
      "execution_count": 22,
      "outputs": [
        {
          "output_type": "stream",
          "name": "stdout",
          "text": [
            "length of predictions : 200\n",
            "shape of predictions : torch.Size([200, 1])\n",
            "\n",
            "Length of test samples : 200, shape : torch.Size([200, 2])\n",
            "\n",
            "First 10 predictions : tensor([[-0.],\n",
            "        [0.],\n",
            "        [-0.],\n",
            "        [-0.],\n",
            "        [0.],\n",
            "        [0.],\n",
            "        [0.],\n",
            "        [0.],\n",
            "        [-0.],\n",
            "        [0.]], device='cuda:0')\n",
            "\n",
            " First 10 actual labels : tensor([1., 0., 1., 0., 1., 1., 0., 0., 1., 0.])\n"
          ]
        }
      ]
    },
    {
      "cell_type": "markdown",
      "source": [
        "### **2.1 Set up `loss function` and `optimizer`**\n",
        "\n",
        "Different problem types require different loss functions.\n",
        "\n",
        "For example, for a regression problem (predicting a number) you might use mean absolute error (MAE) loss.\n",
        "\n",
        "And for a binary classification problem (like ours), you'll often use [binary cross entropy](https://towardsdatascience.com/understanding-binary-cross-entropy-log-loss-a-visual-explanation-a3ac6025181a) as the loss function.\n",
        "\n",
        "However, the same optimizer function can often be used across different problem spaces.\n",
        "\n",
        "For example, the stochastic gradient descent optimizer (SGD, `torch.optim.SGD()`) can be used for a range of problems, and the same applies to the Adam optimizer (`torch.optim.Adam()`).\n",
        "\n",
        "| Loss function/Optimizer | Problem type | PyTorch Code |\n",
        "| ----- | ----- | ----- |\n",
        "| Stochastic Gradient Descent (SGD) optimizer | Classification, regression, many others. | [`torch.optim.SGD()`](https://pytorch.org/docs/stable/generated/torch.optim.SGD.html) |\n",
        "| Adam Optimizer | Classification, regression, many others. | [`torch.optim.Adam()`](https://pytorch.org/docs/stable/generated/torch.optim.Adam.html) |\n",
        "| Binary cross entropy loss | Binary classification | [`torch.nn.BCELossWithLogits`](https://pytorch.org/docs/stable/generated/torch.nn.BCEWithLogitsLoss.html) or [`torch.nn.BCELoss`](https://pytorch.org/docs/stable/generated/torch.nn.BCELoss.html) |\n",
        "| Cross entropy loss | Multi-class classification | [`torch.nn.CrossEntropyLoss`](https://pytorch.org/docs/stable/generated/torch.nn.CrossEntropyLoss.html) |\n",
        "| Mean absolute error (MAE) or L1 Loss | Regression | [`torch.nn.L1Loss`](https://pytorch.org/docs/stable/generated/torch.nn.L1Loss.html) |\n",
        "| Mean squared error (MSE) or L2 Loss | Regression | [`torch.nn.MSELoss`](https://pytorch.org/docs/stable/generated/torch.nn.MSELoss.html#torch.nn.MSELoss) |  \n",
        "\n",
        "*Table of various loss functions and optimizers, there are more but these are some common ones you'll see.*\n",
        "\n",
        "Since we're working with a binary classification problem, let's use a binary cross entropy loss function.\n",
        "\n",
        "> **Note:** Recall a **loss function** is what measures how *wrong* your model predictions are, the higher the loss, the worse your model.\n",
        ">\n",
        "> Also, PyTorch documentation often refers to loss functions as \"loss criterion\" or \"criterion\", these are all different ways of describing the same thing.\n",
        "\n",
        "PyTorch has two binary cross entropy implementations:\n",
        "1. [`torch.nn.BCELoss()`](https://pytorch.org/docs/stable/generated/torch.nn.BCELoss.html) - Creates a loss function that measures the binary cross entropy between the target (label) and input (features).\n",
        "2. [`torch.nn.BCEWithLogitsLoss()`](https://pytorch.org/docs/stable/generated/torch.nn.BCEWithLogitsLoss.html) - This is the same as above except it has a sigmoid layer ([`nn.Sigmoid`](https://pytorch.org/docs/stable/generated/torch.nn.Sigmoid.html)) built-in (we'll see what this means soon).\n",
        "\n",
        "Which one should you use?\n",
        "\n",
        "The [documentation for `torch.nn.BCEWithLogitsLoss()`](https://pytorch.org/docs/stable/generated/torch.nn.BCEWithLogitsLoss.html) states that it's more numerically stable than using `torch.nn.BCELoss()` after a `nn.Sigmoid` layer.\n",
        "\n",
        "So generally, implementation 2 is a better option. However for advanced usage, you may want to separate the combination of `nn.Sigmoid` and `torch.nn.BCELoss()` but that is beyond the scope of this notebook.\n",
        "\n",
        "Knowing this, let's create a loss function and an optimizer.\n",
        "\n",
        "For the optimizer we'll use `torch.optim.SGD()` to optimize the model parameters with learning rate 0.1.\n",
        "\n",
        "> **Note:** There's a [discussion on the PyTorch forums about the use of `nn.BCELoss` vs. `nn.BCEWithLogitsLoss`](https://discuss.pytorch.org/t/bceloss-vs-bcewithlogitsloss/33586/4). It can be confusing at first but as with many things, it becomes easier with practice."
      ],
      "metadata": {
        "id": "3-LR9Twfi9H7"
      }
    },
    {
      "cell_type": "code",
      "source": [
        " # Set up the loss function\n",
        " # loss_fn = nn.BCELoss()\n",
        " # BCELoss = requires inputs to have gone through the sigmoid activation\n",
        "'''\n",
        "nn.Sequential(\n",
        "    nn.Sigmoid(),\n",
        "    nn.BCELoss()                # this does the same work as nn.BCEWithLogitsLoss()\n",
        ")\n",
        "'''\n",
        "loss_fn = nn.BCEWithLogitsLoss()     # BCEWithLogitsLoss = sigmoid activation function built-in\n",
        "\n",
        "optimizer = torch.optim.SGD(params = model_0.parameters(),lr = 0.01)"
      ],
      "metadata": {
        "id": "pXZUuYL1hNEd"
      },
      "execution_count": 23,
      "outputs": []
    },
    {
      "cell_type": "code",
      "source": [
        "# CALCULATE  ACCURACY - out of 100 what percentage our model gets it right\n",
        "\n",
        "def accuracy_fn(y_true, y_pred) :\n",
        "  correct = torch.eq(y_true, y_pred).sum().item()\n",
        "  acc = (correct / len(y_pred)) * 100\n",
        "  return acc"
      ],
      "metadata": {
        "id": "XXdBBFrTm1O4"
      },
      "execution_count": 24,
      "outputs": []
    },
    {
      "cell_type": "markdown",
      "source": [
        "# **3. Train Model**\n",
        "To train our model, we're going to need to build a training a loop with the following steps:\n",
        "1. Forward pass\n",
        "2. Claculate the loss\n",
        "3. Optimizer zero grad\n",
        "4. Loss backward (Backward Propagation)\n",
        "5. Optimizer step (Gradient Descent)"
      ],
      "metadata": {
        "id": "_riMvCTinhua"
      }
    },
    {
      "cell_type": "markdown",
      "source": [
        "### **3.1 Going from raw logits -> predictions(using activation functions) -> prediction tabels**\n",
        "\n",
        "our model outputs are going to be raw **logits**\n",
        "\n",
        "we can convert these **logit** into **prediction probability** by passing them to some kind of activation function (e.g sigmoid for binary classification and softmax for multiclass classification).\n",
        "\n",
        "then can convert our model's prediction probabilities to **predicction labels** by eiher rounding them or taking the `argmax()`"
      ],
      "metadata": {
        "id": "foSnL5_zmm9Y"
      }
    },
    {
      "cell_type": "code",
      "source": [
        "# view the first 5 outputs of the forward pass on the test data\n",
        "model_0.eval()         # whenever we make predictions with our model, we turn it in eval model\n",
        "with torch.inference_mode():\n",
        "  y_logits = model_0(X_test.to(device))[:5]\n",
        "y_logits                 # Logits are raw outputs of our model without being passed through any ACTIVATION function, whatever comes after the activation functions"
      ],
      "metadata": {
        "id": "gKJ4AoVOng5C",
        "colab": {
          "base_uri": "https://localhost:8080/"
        },
        "outputId": "9a1315a4-3a6e-40db-a676-ea2dd7ec7d7f"
      },
      "execution_count": 25,
      "outputs": [
        {
          "output_type": "execute_result",
          "data": {
            "text/plain": [
              "tensor([[-0.0029],\n",
              "        [ 0.0072],\n",
              "        [-0.0051],\n",
              "        [-0.0024],\n",
              "        [ 0.0336]], device='cuda:0')"
            ]
          },
          "metadata": {},
          "execution_count": 25
        }
      ]
    },
    {
      "cell_type": "code",
      "source": [
        "y_test[:5]"
      ],
      "metadata": {
        "id": "R8JpNRYbnSYy",
        "colab": {
          "base_uri": "https://localhost:8080/"
        },
        "outputId": "7514f290-0df5-4160-e327-589fde492b4c"
      },
      "execution_count": 26,
      "outputs": [
        {
          "output_type": "execute_result",
          "data": {
            "text/plain": [
              "tensor([1., 0., 1., 0., 1.])"
            ]
          },
          "metadata": {},
          "execution_count": 26
        }
      ]
    },
    {
      "cell_type": "code",
      "source": [
        "# use sigmoid activation function on our model logits to turn them into prediction probabilities\n",
        "y_pred_prob = torch.sigmoid(y_logits)\n",
        "y_pred_prob"
      ],
      "metadata": {
        "colab": {
          "base_uri": "https://localhost:8080/"
        },
        "id": "82XT4iwLuEx-",
        "outputId": "763b65ca-9912-4d97-c259-c0a43628e555"
      },
      "execution_count": 27,
      "outputs": [
        {
          "output_type": "execute_result",
          "data": {
            "text/plain": [
              "tensor([[0.4993],\n",
              "        [0.5018],\n",
              "        [0.4987],\n",
              "        [0.4994],\n",
              "        [0.5084]], device='cuda:0')"
            ]
          },
          "metadata": {},
          "execution_count": 27
        }
      ]
    },
    {
      "cell_type": "code",
      "source": [
        "# Find the predicted labels\n",
        "y_preds = torch.round(y_pred_prob)\n",
        "\n",
        "# In full (logits -> pred probs -> pred labels)\n",
        "y_preds_labels = torch.round(torch.sigmoid(model_0(X_test.to(device))[:5]))\n",
        "\n",
        "# Check the equality\n",
        "print(torch.eq(y_preds.squeeze(), y_preds_labels.squeeze()))\n",
        "\n",
        "# Get rid of extra dimensions\n",
        "y_preds.squeeze()"
      ],
      "metadata": {
        "colab": {
          "base_uri": "https://localhost:8080/"
        },
        "id": "s4FMTbGyul-3",
        "outputId": "b8dcb1ce-a40c-479f-93e0-01521dca587a"
      },
      "execution_count": 28,
      "outputs": [
        {
          "output_type": "stream",
          "name": "stdout",
          "text": [
            "tensor([True, True, True, True, True], device='cuda:0')\n"
          ]
        },
        {
          "output_type": "execute_result",
          "data": {
            "text/plain": [
              "tensor([0., 1., 0., 0., 1.], device='cuda:0')"
            ]
          },
          "metadata": {},
          "execution_count": 28
        }
      ]
    },
    {
      "cell_type": "code",
      "source": [
        "y_test[:5]"
      ],
      "metadata": {
        "colab": {
          "base_uri": "https://localhost:8080/"
        },
        "id": "j8hGlJEgusv1",
        "outputId": "848bc0ec-2d7f-47d6-8373-32940fe46182"
      },
      "execution_count": 29,
      "outputs": [
        {
          "output_type": "execute_result",
          "data": {
            "text/plain": [
              "tensor([1., 0., 1., 0., 1.])"
            ]
          },
          "metadata": {},
          "execution_count": 29
        }
      ]
    },
    {
      "cell_type": "markdown",
      "source": [
        "### **3.2 Building training and testing loop**"
      ],
      "metadata": {
        "id": "b0q_CNr2wshH"
      }
    },
    {
      "cell_type": "code",
      "source": [
        "torch.manual_seed(42)\n",
        "torch.cuda.manual_seed(42)\n",
        "\n",
        "# Set the number of epochs\n",
        "epochs = 1000\n",
        "\n",
        "# PUT DATA ON TARGET DEVICE\n",
        "X_train, y_train = X_train.to(device), y_train.to(device)\n",
        "X_test, y_test = X_test.to(device), y_test.to(device)\n",
        "\n",
        "# Building training and evaluation loop\n",
        "for epoch in range(epochs):\n",
        "  ## Training\n",
        "  model_0.train()\n",
        "\n",
        "  # 1. Forward pass\n",
        "  y_logits = model_0(X_train).squeeze()\n",
        "  y_pred = torch.round(torch.sigmoid(y_logits))   # sigmoid activation function will convert the logits into prediction probabilities to prediction labels\n",
        "\n",
        "  # 2. Calculate loss/accuracy\n",
        "  \"\"\"loss = loss_fn(torch.sigmoid(y_logits),  # nn.BCELoss expects prediction as input\n",
        "                 y_train)\"\"\"\n",
        "\n",
        "\n",
        "  loss = loss_fn(y_logits,   # nn.BCEWithLogitsLoss expects raw logits as input\n",
        "                 y_train)\n",
        "  acc = accuracy_fn(y_true = y_train, y_pred = y_pred)\n",
        "\n",
        "  # Optimizer Zero Grad\n",
        "  optimizer.zero_grad()\n",
        "\n",
        "  # Loss backward (Back Propagation)\n",
        "  loss.backward()\n",
        "\n",
        "  # 5. Optimizer step(gradient descent)\n",
        "  optimizer.step()\n",
        "\n",
        "  ## Testing\n",
        "  model_0.eval()\n",
        "  with torch.inference_mode():\n",
        "    # 1. Forward Pass\n",
        "    test_logits = model_0(X_test).squeeze()                # Logits are raw output of our data with no modification\n",
        "    test_pred = torch.round(torch.sigmoid(test_logits))\n",
        "\n",
        "    # 2. claculate the Test Loss\n",
        "    test_loss = loss_fn(test_logits, y_test)\n",
        "    test_acc = accuracy_fn(y_true = y_test, y_pred = test_pred)\n",
        "\n",
        "  # print out what's happening\n",
        "  if epoch % 10 == 0 :\n",
        "    print(f\"Epoch : {epoch} | Loss : {loss:.5f} | Accuracy : {acc:.2f}% | Test Loss : {test_loss} | Test Accuracy : {test_acc:.2f}%\")"
      ],
      "metadata": {
        "colab": {
          "base_uri": "https://localhost:8080/"
        },
        "id": "T1NhH2c8wn_F",
        "outputId": "b38c658b-dc47-46ec-f3af-5268612c58c9"
      },
      "execution_count": 30,
      "outputs": [
        {
          "output_type": "stream",
          "name": "stdout",
          "text": [
            "Epoch : 0 | Loss : 0.69320 | Accuracy : 51.38% | Test Loss : 0.6933867335319519 | Test Accuracy : 53.00%\n",
            "Epoch : 10 | Loss : 0.69319 | Accuracy : 51.88% | Test Loss : 0.6934124827384949 | Test Accuracy : 52.50%\n",
            "Epoch : 20 | Loss : 0.69318 | Accuracy : 51.38% | Test Loss : 0.6934379935264587 | Test Accuracy : 52.00%\n",
            "Epoch : 30 | Loss : 0.69317 | Accuracy : 51.62% | Test Loss : 0.6934632062911987 | Test Accuracy : 52.00%\n",
            "Epoch : 40 | Loss : 0.69316 | Accuracy : 51.25% | Test Loss : 0.6934881210327148 | Test Accuracy : 51.00%\n",
            "Epoch : 50 | Loss : 0.69315 | Accuracy : 51.62% | Test Loss : 0.6935126185417175 | Test Accuracy : 50.00%\n",
            "Epoch : 60 | Loss : 0.69315 | Accuracy : 51.38% | Test Loss : 0.6935368180274963 | Test Accuracy : 51.00%\n",
            "Epoch : 70 | Loss : 0.69314 | Accuracy : 51.25% | Test Loss : 0.6935606002807617 | Test Accuracy : 50.00%\n",
            "Epoch : 80 | Loss : 0.69313 | Accuracy : 51.25% | Test Loss : 0.6935839653015137 | Test Accuracy : 51.00%\n",
            "Epoch : 90 | Loss : 0.69313 | Accuracy : 51.25% | Test Loss : 0.6936068534851074 | Test Accuracy : 51.00%\n",
            "Epoch : 100 | Loss : 0.69312 | Accuracy : 50.75% | Test Loss : 0.6936294436454773 | Test Accuracy : 51.00%\n",
            "Epoch : 110 | Loss : 0.69311 | Accuracy : 50.75% | Test Loss : 0.6936514973640442 | Test Accuracy : 50.50%\n",
            "Epoch : 120 | Loss : 0.69311 | Accuracy : 51.00% | Test Loss : 0.6936731338500977 | Test Accuracy : 49.50%\n",
            "Epoch : 130 | Loss : 0.69311 | Accuracy : 50.75% | Test Loss : 0.6936943531036377 | Test Accuracy : 49.00%\n",
            "Epoch : 140 | Loss : 0.69310 | Accuracy : 51.12% | Test Loss : 0.6937152147293091 | Test Accuracy : 49.00%\n",
            "Epoch : 150 | Loss : 0.69310 | Accuracy : 50.75% | Test Loss : 0.6937355399131775 | Test Accuracy : 49.00%\n",
            "Epoch : 160 | Loss : 0.69309 | Accuracy : 50.88% | Test Loss : 0.6937554478645325 | Test Accuracy : 48.50%\n",
            "Epoch : 170 | Loss : 0.69309 | Accuracy : 51.00% | Test Loss : 0.6937749981880188 | Test Accuracy : 48.50%\n",
            "Epoch : 180 | Loss : 0.69308 | Accuracy : 51.50% | Test Loss : 0.6937940716743469 | Test Accuracy : 48.50%\n",
            "Epoch : 190 | Loss : 0.69308 | Accuracy : 51.25% | Test Loss : 0.6938128471374512 | Test Accuracy : 48.50%\n",
            "Epoch : 200 | Loss : 0.69308 | Accuracy : 51.00% | Test Loss : 0.6938311457633972 | Test Accuracy : 48.50%\n",
            "Epoch : 210 | Loss : 0.69308 | Accuracy : 51.38% | Test Loss : 0.6938490271568298 | Test Accuracy : 48.00%\n",
            "Epoch : 220 | Loss : 0.69307 | Accuracy : 51.12% | Test Loss : 0.693866491317749 | Test Accuracy : 48.50%\n",
            "Epoch : 230 | Loss : 0.69307 | Accuracy : 50.88% | Test Loss : 0.6938835978507996 | Test Accuracy : 49.00%\n",
            "Epoch : 240 | Loss : 0.69307 | Accuracy : 50.75% | Test Loss : 0.6939003467559814 | Test Accuracy : 49.00%\n",
            "Epoch : 250 | Loss : 0.69306 | Accuracy : 50.50% | Test Loss : 0.6939166784286499 | Test Accuracy : 48.50%\n",
            "Epoch : 260 | Loss : 0.69306 | Accuracy : 50.38% | Test Loss : 0.6939327120780945 | Test Accuracy : 48.50%\n",
            "Epoch : 270 | Loss : 0.69306 | Accuracy : 50.12% | Test Loss : 0.6939483284950256 | Test Accuracy : 48.50%\n",
            "Epoch : 280 | Loss : 0.69306 | Accuracy : 50.25% | Test Loss : 0.6939635872840881 | Test Accuracy : 47.50%\n",
            "Epoch : 290 | Loss : 0.69305 | Accuracy : 50.38% | Test Loss : 0.6939785480499268 | Test Accuracy : 48.00%\n",
            "Epoch : 300 | Loss : 0.69305 | Accuracy : 50.75% | Test Loss : 0.6939932107925415 | Test Accuracy : 48.00%\n",
            "Epoch : 310 | Loss : 0.69305 | Accuracy : 50.62% | Test Loss : 0.6940075755119324 | Test Accuracy : 48.50%\n",
            "Epoch : 320 | Loss : 0.69305 | Accuracy : 50.62% | Test Loss : 0.694021463394165 | Test Accuracy : 48.50%\n",
            "Epoch : 330 | Loss : 0.69305 | Accuracy : 50.50% | Test Loss : 0.6940351724624634 | Test Accuracy : 48.50%\n",
            "Epoch : 340 | Loss : 0.69304 | Accuracy : 50.25% | Test Loss : 0.6940485239028931 | Test Accuracy : 49.00%\n",
            "Epoch : 350 | Loss : 0.69304 | Accuracy : 50.00% | Test Loss : 0.6940615773200989 | Test Accuracy : 48.50%\n",
            "Epoch : 360 | Loss : 0.69304 | Accuracy : 50.25% | Test Loss : 0.6940743327140808 | Test Accuracy : 48.50%\n",
            "Epoch : 370 | Loss : 0.69304 | Accuracy : 50.50% | Test Loss : 0.6940867304801941 | Test Accuracy : 48.50%\n",
            "Epoch : 380 | Loss : 0.69304 | Accuracy : 50.50% | Test Loss : 0.6940990090370178 | Test Accuracy : 47.00%\n",
            "Epoch : 390 | Loss : 0.69304 | Accuracy : 50.38% | Test Loss : 0.6941109299659729 | Test Accuracy : 47.00%\n",
            "Epoch : 400 | Loss : 0.69304 | Accuracy : 50.38% | Test Loss : 0.6941226124763489 | Test Accuracy : 47.00%\n",
            "Epoch : 410 | Loss : 0.69303 | Accuracy : 50.38% | Test Loss : 0.6941340565681458 | Test Accuracy : 47.50%\n",
            "Epoch : 420 | Loss : 0.69303 | Accuracy : 50.38% | Test Loss : 0.6941452026367188 | Test Accuracy : 47.50%\n",
            "Epoch : 430 | Loss : 0.69303 | Accuracy : 50.38% | Test Loss : 0.6941561102867126 | Test Accuracy : 47.50%\n",
            "Epoch : 440 | Loss : 0.69303 | Accuracy : 50.38% | Test Loss : 0.6941667199134827 | Test Accuracy : 47.50%\n",
            "Epoch : 450 | Loss : 0.69303 | Accuracy : 50.38% | Test Loss : 0.6941771507263184 | Test Accuracy : 48.00%\n",
            "Epoch : 460 | Loss : 0.69303 | Accuracy : 50.12% | Test Loss : 0.6941874027252197 | Test Accuracy : 48.00%\n",
            "Epoch : 470 | Loss : 0.69303 | Accuracy : 50.38% | Test Loss : 0.6941972970962524 | Test Accuracy : 48.00%\n",
            "Epoch : 480 | Loss : 0.69303 | Accuracy : 50.38% | Test Loss : 0.6942071318626404 | Test Accuracy : 48.00%\n",
            "Epoch : 490 | Loss : 0.69302 | Accuracy : 50.38% | Test Loss : 0.6942166090011597 | Test Accuracy : 48.50%\n",
            "Epoch : 500 | Loss : 0.69302 | Accuracy : 50.38% | Test Loss : 0.6942259073257446 | Test Accuracy : 48.00%\n",
            "Epoch : 510 | Loss : 0.69302 | Accuracy : 50.50% | Test Loss : 0.69423508644104 | Test Accuracy : 48.00%\n",
            "Epoch : 520 | Loss : 0.69302 | Accuracy : 51.00% | Test Loss : 0.6942439079284668 | Test Accuracy : 48.00%\n",
            "Epoch : 530 | Loss : 0.69302 | Accuracy : 50.75% | Test Loss : 0.6942526698112488 | Test Accuracy : 48.00%\n",
            "Epoch : 540 | Loss : 0.69302 | Accuracy : 50.75% | Test Loss : 0.6942612528800964 | Test Accuracy : 48.00%\n",
            "Epoch : 550 | Loss : 0.69302 | Accuracy : 50.75% | Test Loss : 0.6942695379257202 | Test Accuracy : 48.00%\n",
            "Epoch : 560 | Loss : 0.69302 | Accuracy : 50.38% | Test Loss : 0.6942777037620544 | Test Accuracy : 47.50%\n",
            "Epoch : 570 | Loss : 0.69302 | Accuracy : 50.62% | Test Loss : 0.6942856907844543 | Test Accuracy : 47.50%\n",
            "Epoch : 580 | Loss : 0.69302 | Accuracy : 50.62% | Test Loss : 0.6942934989929199 | Test Accuracy : 47.50%\n",
            "Epoch : 590 | Loss : 0.69301 | Accuracy : 50.62% | Test Loss : 0.6943011283874512 | Test Accuracy : 47.00%\n",
            "Epoch : 600 | Loss : 0.69301 | Accuracy : 50.75% | Test Loss : 0.6943085789680481 | Test Accuracy : 47.00%\n",
            "Epoch : 610 | Loss : 0.69301 | Accuracy : 50.38% | Test Loss : 0.6943158507347107 | Test Accuracy : 47.00%\n",
            "Epoch : 620 | Loss : 0.69301 | Accuracy : 50.50% | Test Loss : 0.6943230032920837 | Test Accuracy : 47.00%\n",
            "Epoch : 630 | Loss : 0.69301 | Accuracy : 50.50% | Test Loss : 0.6943299770355225 | Test Accuracy : 47.50%\n",
            "Epoch : 640 | Loss : 0.69301 | Accuracy : 50.50% | Test Loss : 0.6943368315696716 | Test Accuracy : 47.50%\n",
            "Epoch : 650 | Loss : 0.69301 | Accuracy : 50.62% | Test Loss : 0.6943435668945312 | Test Accuracy : 47.50%\n",
            "Epoch : 660 | Loss : 0.69301 | Accuracy : 50.62% | Test Loss : 0.6943501234054565 | Test Accuracy : 47.50%\n",
            "Epoch : 670 | Loss : 0.69301 | Accuracy : 50.62% | Test Loss : 0.6943565011024475 | Test Accuracy : 47.50%\n",
            "Epoch : 680 | Loss : 0.69301 | Accuracy : 50.75% | Test Loss : 0.6943627595901489 | Test Accuracy : 47.00%\n",
            "Epoch : 690 | Loss : 0.69301 | Accuracy : 51.00% | Test Loss : 0.6943688988685608 | Test Accuracy : 47.00%\n",
            "Epoch : 700 | Loss : 0.69301 | Accuracy : 51.12% | Test Loss : 0.6943749189376831 | Test Accuracy : 47.00%\n",
            "Epoch : 710 | Loss : 0.69301 | Accuracy : 51.00% | Test Loss : 0.6943807601928711 | Test Accuracy : 47.00%\n",
            "Epoch : 720 | Loss : 0.69301 | Accuracy : 50.88% | Test Loss : 0.6943866014480591 | Test Accuracy : 47.50%\n",
            "Epoch : 730 | Loss : 0.69301 | Accuracy : 50.88% | Test Loss : 0.6943921446800232 | Test Accuracy : 47.50%\n",
            "Epoch : 740 | Loss : 0.69300 | Accuracy : 51.00% | Test Loss : 0.6943975687026978 | Test Accuracy : 47.50%\n",
            "Epoch : 750 | Loss : 0.69300 | Accuracy : 50.88% | Test Loss : 0.6944030523300171 | Test Accuracy : 47.00%\n",
            "Epoch : 760 | Loss : 0.69300 | Accuracy : 50.88% | Test Loss : 0.6944082975387573 | Test Accuracy : 47.00%\n",
            "Epoch : 770 | Loss : 0.69300 | Accuracy : 50.88% | Test Loss : 0.694413423538208 | Test Accuracy : 47.00%\n",
            "Epoch : 780 | Loss : 0.69300 | Accuracy : 50.75% | Test Loss : 0.6944184899330139 | Test Accuracy : 47.00%\n",
            "Epoch : 790 | Loss : 0.69300 | Accuracy : 50.88% | Test Loss : 0.6944234371185303 | Test Accuracy : 47.00%\n",
            "Epoch : 800 | Loss : 0.69300 | Accuracy : 50.88% | Test Loss : 0.6944282650947571 | Test Accuracy : 47.00%\n",
            "Epoch : 810 | Loss : 0.69300 | Accuracy : 50.75% | Test Loss : 0.6944329738616943 | Test Accuracy : 47.00%\n",
            "Epoch : 820 | Loss : 0.69300 | Accuracy : 50.75% | Test Loss : 0.6944376230239868 | Test Accuracy : 47.00%\n",
            "Epoch : 830 | Loss : 0.69300 | Accuracy : 50.75% | Test Loss : 0.694442093372345 | Test Accuracy : 47.00%\n",
            "Epoch : 840 | Loss : 0.69300 | Accuracy : 50.88% | Test Loss : 0.6944465637207031 | Test Accuracy : 47.00%\n",
            "Epoch : 850 | Loss : 0.69300 | Accuracy : 50.88% | Test Loss : 0.6944509148597717 | Test Accuracy : 46.50%\n",
            "Epoch : 860 | Loss : 0.69300 | Accuracy : 51.00% | Test Loss : 0.6944551467895508 | Test Accuracy : 46.50%\n",
            "Epoch : 870 | Loss : 0.69300 | Accuracy : 51.00% | Test Loss : 0.6944592595100403 | Test Accuracy : 46.50%\n",
            "Epoch : 880 | Loss : 0.69300 | Accuracy : 51.00% | Test Loss : 0.694463312625885 | Test Accuracy : 46.50%\n",
            "Epoch : 890 | Loss : 0.69300 | Accuracy : 51.00% | Test Loss : 0.6944673657417297 | Test Accuracy : 46.50%\n",
            "Epoch : 900 | Loss : 0.69300 | Accuracy : 51.00% | Test Loss : 0.6944712400436401 | Test Accuracy : 46.50%\n",
            "Epoch : 910 | Loss : 0.69300 | Accuracy : 51.25% | Test Loss : 0.6944750547409058 | Test Accuracy : 46.50%\n",
            "Epoch : 920 | Loss : 0.69300 | Accuracy : 51.25% | Test Loss : 0.6944787502288818 | Test Accuracy : 46.50%\n",
            "Epoch : 930 | Loss : 0.69300 | Accuracy : 51.25% | Test Loss : 0.6944825053215027 | Test Accuracy : 46.00%\n",
            "Epoch : 940 | Loss : 0.69300 | Accuracy : 51.12% | Test Loss : 0.6944860816001892 | Test Accuracy : 46.00%\n",
            "Epoch : 950 | Loss : 0.69300 | Accuracy : 51.25% | Test Loss : 0.694489598274231 | Test Accuracy : 46.00%\n",
            "Epoch : 960 | Loss : 0.69300 | Accuracy : 51.12% | Test Loss : 0.6944929361343384 | Test Accuracy : 46.00%\n",
            "Epoch : 970 | Loss : 0.69300 | Accuracy : 51.12% | Test Loss : 0.6944963932037354 | Test Accuracy : 46.00%\n",
            "Epoch : 980 | Loss : 0.69300 | Accuracy : 51.12% | Test Loss : 0.694499671459198 | Test Accuracy : 46.00%\n",
            "Epoch : 990 | Loss : 0.69299 | Accuracy : 51.00% | Test Loss : 0.6945028305053711 | Test Accuracy : 46.00%\n"
          ]
        }
      ]
    },
    {
      "cell_type": "markdown",
      "source": [
        "# **4. Make Prediction and evaluate the model**\n",
        "it looks like our model isn't learning anything.\n",
        "\n",
        "so to inspect it let's make some predictions and make them visual!\n",
        "\n",
        "to do so, we are going to import a function called `plot_decision_boundary()`\n",
        "\n"
      ],
      "metadata": {
        "id": "pOOnuKZZBdgd"
      }
    },
    {
      "cell_type": "code",
      "source": [
        "import requests\n",
        "from pathlib import Path\n",
        "\n",
        "# download helper functions from Learn PyTorch repo (if it's not already dowloaded)\n",
        "if Path(\"helper_functions.py\").is_file():\n",
        "  print(\"helper_functions.py already exists, skipping download\")\n",
        "else:\n",
        "  print(\"Downloading helper_functions.py\")\n",
        "  request = requests.get(\"https://raw.githubusercontent.com/mrdbourke/pytorch-deep-learning/main/helper_functions.py\")\n",
        "  with open(\"helper_functions.py\", \"wb\") as f:\n",
        "    f.write(request.content)\n",
        "\n",
        "from helper_functions import plot_predictions, plot_decision_boundary\n"
      ],
      "metadata": {
        "colab": {
          "base_uri": "https://localhost:8080/"
        },
        "id": "Uo2ey4hT7aIt",
        "outputId": "69856008-c239-4e7b-83a7-ac816ec0d8f0"
      },
      "execution_count": 31,
      "outputs": [
        {
          "output_type": "stream",
          "name": "stdout",
          "text": [
            "Downloading helper_functions.py\n"
          ]
        }
      ]
    },
    {
      "cell_type": "code",
      "source": [
        "# Plot decision boundary of the model\n",
        "plt.figure(figsize=(12,6))\n",
        "plt.subplot(1,2,1)\n",
        "plt.title(\" Train\")\n",
        "plot_decision_boundary(model_0, X_train, y_train)\n",
        "plt.subplot(1,2,2)\n",
        "plt.title(\"Test\")\n",
        "plot_decision_boundary(model_0, X_test, y_test)"
      ],
      "metadata": {
        "id": "m-UnOdKuJom3",
        "outputId": "f412d9e4-88dc-44f7-d995-20a70eddd00c",
        "colab": {
          "base_uri": "https://localhost:8080/",
          "height": 541
        }
      },
      "execution_count": 32,
      "outputs": [
        {
          "output_type": "display_data",
          "data": {
            "text/plain": [
              "<Figure size 1200x600 with 2 Axes>"
            ],
            "image/png": "[encoded data removed]"
          },
          "metadata": {}
        }
      ]
    },
    {
      "cell_type": "markdown",
      "source": [
        "# **5. Improving a model (from a model perspective)**\n",
        "* Add more layers - Give model more chances to learn about pattern in the data\n",
        "* Add more hidden layers (go from 5 to 10 hidden units)\n",
        "* Fit for longer (more epochs).\n",
        "* Changing the activation function\n",
        "* Change the learning rate\n",
        "* Change the loss function\n",
        "\n",
        "\n",
        "***These options are all from model's perspective because they deal directly with the model, rather than the data***\n",
        "\n",
        "* Because these options are all values we (as a machine learning engineers and data scientists) can change, they are refferd as **HYPERPARAMETERS**\n",
        "\n",
        "Let's try and improve our model by:\n",
        "* Adding more hidden units : 5 -> 10\n",
        "* Increase the number of layers: 2 -> 3\n",
        "* Increase the number of epochs: 100 -> 1000"
      ],
      "metadata": {
        "id": "JQoRrc-ukjTP"
      }
    },
    {
      "cell_type": "code",
      "source": [
        "class CircleModelV1(nn.Module):\n",
        "  def __init__(self):\n",
        "    super().__init__()\n",
        "    self.layer_1 = nn.Linear(in_features=2, out_features=10)\n",
        "    self.layer_2 = nn.Linear(in_features = 10, out_features=10)\n",
        "    self.layer_3 = nn.Linear(in_features=10, out_features = 2)\n",
        "\n",
        "def forward(self, x):\n",
        "  # z= self.layer_1(x)\n",
        "  # z = self.layer_2(z)\n",
        "  # z = self.layer_3(z)\n",
        "  return self.layer_3(self.layer_2(self.layer_1(x))) # this way of writing operations levarages speed ups where possible behind the scenes\n",
        "model_1 = CircleModelV1().to(device)\n",
        "model_1"
      ],
      "metadata": {
        "id": "Nj_ShsMNhr74",
        "outputId": "34b38782-5646-4a57-9725-18ba5fd99f1a",
        "colab": {
          "base_uri": "https://localhost:8080/"
        }
      },
      "execution_count": 33,
      "outputs": [
        {
          "output_type": "execute_result",
          "data": {
            "text/plain": [
              "CircleModelV1(\n",
              "  (layer_1): Linear(in_features=2, out_features=10, bias=True)\n",
              "  (layer_2): Linear(in_features=10, out_features=10, bias=True)\n",
              "  (layer_3): Linear(in_features=10, out_features=2, bias=True)\n",
              ")"
            ]
          },
          "metadata": {},
          "execution_count": 33
        }
      ]
    },
    {
      "cell_type": "code",
      "source": [
        "# Create a loss function\n",
        "loss_fn = nn.BCEWithLogitLoss()\n",
        "\n",
        "# Create an Optimizer\n",
        "optimizer = torch.optim.SGD(params = model_1.parameters(), lr = 0.1)"
      ],
      "metadata": {
        "id": "zkToAR7niNHg"
      },
      "execution_count": null,
      "outputs": []
    },
    {
      "cell_type": "code",
      "source": [
        "# Write a training and evaluation loop for model_1\n",
        "torch.manual_seed(42)\n",
        "torch.cuda.manual_seed(42)\n",
        "\n",
        "# Set the number of epochs\n",
        "epochs = 1000\n",
        "\n",
        "# Put data on the target device\n",
        "X_train, y_train = X_train.to(device), y_train.to(device)"
      ],
      "metadata": {
        "id": "EDC_xPCZp7_x"
      },
      "execution_count": null,
      "outputs": []
    }
  ]
}